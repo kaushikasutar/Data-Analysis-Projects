{
 "cells": [
  {
   "cell_type": "code",
   "execution_count": 8,
   "id": "8ffe276f",
   "metadata": {},
   "outputs": [],
   "source": [
    "import numpy as np\n",
    "import pandas as pd\n",
    "from pandas import Series, DataFrame\n",
    "\n",
    "import matplotlib.pyplot as plt\n",
    "import seaborn as sns\n",
    "%matplotlib inline"
   ]
  },
  {
   "cell_type": "code",
   "execution_count": 10,
   "id": "c146d198",
   "metadata": {},
   "outputs": [
    {
     "data": {
      "text/html": [
       "<div>\n",
       "<style scoped>\n",
       "    .dataframe tbody tr th:only-of-type {\n",
       "        vertical-align: middle;\n",
       "    }\n",
       "\n",
       "    .dataframe tbody tr th {\n",
       "        vertical-align: top;\n",
       "    }\n",
       "\n",
       "    .dataframe thead th {\n",
       "        text-align: right;\n",
       "    }\n",
       "</style>\n",
       "<table border=\"1\" class=\"dataframe\">\n",
       "  <thead>\n",
       "    <tr style=\"text-align: right;\">\n",
       "      <th></th>\n",
       "      <th>name</th>\n",
       "      <th>online_order</th>\n",
       "      <th>book_table</th>\n",
       "      <th>rate</th>\n",
       "      <th>votes</th>\n",
       "      <th>approx_cost(for two people)</th>\n",
       "      <th>listed_in(type)</th>\n",
       "    </tr>\n",
       "  </thead>\n",
       "  <tbody>\n",
       "    <tr>\n",
       "      <th>0</th>\n",
       "      <td>Jalsa</td>\n",
       "      <td>Yes</td>\n",
       "      <td>Yes</td>\n",
       "      <td>4.1/5</td>\n",
       "      <td>775</td>\n",
       "      <td>800</td>\n",
       "      <td>Buffet</td>\n",
       "    </tr>\n",
       "    <tr>\n",
       "      <th>1</th>\n",
       "      <td>Spice Elephant</td>\n",
       "      <td>Yes</td>\n",
       "      <td>No</td>\n",
       "      <td>4.1/5</td>\n",
       "      <td>787</td>\n",
       "      <td>800</td>\n",
       "      <td>Buffet</td>\n",
       "    </tr>\n",
       "    <tr>\n",
       "      <th>2</th>\n",
       "      <td>San Churro Cafe</td>\n",
       "      <td>Yes</td>\n",
       "      <td>No</td>\n",
       "      <td>3.8/5</td>\n",
       "      <td>918</td>\n",
       "      <td>800</td>\n",
       "      <td>Buffet</td>\n",
       "    </tr>\n",
       "    <tr>\n",
       "      <th>3</th>\n",
       "      <td>Addhuri Udupi Bhojana</td>\n",
       "      <td>No</td>\n",
       "      <td>No</td>\n",
       "      <td>3.7/5</td>\n",
       "      <td>88</td>\n",
       "      <td>300</td>\n",
       "      <td>Buffet</td>\n",
       "    </tr>\n",
       "    <tr>\n",
       "      <th>4</th>\n",
       "      <td>Grand Village</td>\n",
       "      <td>No</td>\n",
       "      <td>No</td>\n",
       "      <td>3.8/5</td>\n",
       "      <td>166</td>\n",
       "      <td>600</td>\n",
       "      <td>Buffet</td>\n",
       "    </tr>\n",
       "  </tbody>\n",
       "</table>\n",
       "</div>"
      ],
      "text/plain": [
       "                    name online_order book_table   rate  votes  \\\n",
       "0                  Jalsa          Yes        Yes  4.1/5    775   \n",
       "1         Spice Elephant          Yes         No  4.1/5    787   \n",
       "2        San Churro Cafe          Yes         No  3.8/5    918   \n",
       "3  Addhuri Udupi Bhojana           No         No  3.7/5     88   \n",
       "4          Grand Village           No         No  3.8/5    166   \n",
       "\n",
       "   approx_cost(for two people) listed_in(type)  \n",
       "0                          800          Buffet  \n",
       "1                          800          Buffet  \n",
       "2                          800          Buffet  \n",
       "3                          300          Buffet  \n",
       "4                          600          Buffet  "
      ]
     },
     "execution_count": 10,
     "metadata": {},
     "output_type": "execute_result"
    }
   ],
   "source": [
    "df = pd.read_csv('ZD.csv')\n",
    "df.head()"
   ]
  },
  {
   "cell_type": "code",
   "execution_count": 11,
   "id": "a64dd834",
   "metadata": {},
   "outputs": [],
   "source": [
    "# let’s convert the data type of the “rate” column to float and remove the denominator.\n",
    "\n",
    "def handleRate(value):\n",
    "    value=str(value).split('/')\n",
    "    value=value[0];\n",
    "    return float(value)\n",
    "\n",
    "df['rate']=df['rate'].apply(handleRate)"
   ]
  },
  {
   "cell_type": "code",
   "execution_count": 12,
   "id": "429295b3",
   "metadata": {},
   "outputs": [
    {
     "data": {
      "text/html": [
       "<div>\n",
       "<style scoped>\n",
       "    .dataframe tbody tr th:only-of-type {\n",
       "        vertical-align: middle;\n",
       "    }\n",
       "\n",
       "    .dataframe tbody tr th {\n",
       "        vertical-align: top;\n",
       "    }\n",
       "\n",
       "    .dataframe thead th {\n",
       "        text-align: right;\n",
       "    }\n",
       "</style>\n",
       "<table border=\"1\" class=\"dataframe\">\n",
       "  <thead>\n",
       "    <tr style=\"text-align: right;\">\n",
       "      <th></th>\n",
       "      <th>name</th>\n",
       "      <th>online_order</th>\n",
       "      <th>book_table</th>\n",
       "      <th>rate</th>\n",
       "      <th>votes</th>\n",
       "      <th>approx_cost(for two people)</th>\n",
       "      <th>listed_in(type)</th>\n",
       "    </tr>\n",
       "  </thead>\n",
       "  <tbody>\n",
       "    <tr>\n",
       "      <th>0</th>\n",
       "      <td>Jalsa</td>\n",
       "      <td>Yes</td>\n",
       "      <td>Yes</td>\n",
       "      <td>4.1</td>\n",
       "      <td>775</td>\n",
       "      <td>800</td>\n",
       "      <td>Buffet</td>\n",
       "    </tr>\n",
       "    <tr>\n",
       "      <th>1</th>\n",
       "      <td>Spice Elephant</td>\n",
       "      <td>Yes</td>\n",
       "      <td>No</td>\n",
       "      <td>4.1</td>\n",
       "      <td>787</td>\n",
       "      <td>800</td>\n",
       "      <td>Buffet</td>\n",
       "    </tr>\n",
       "    <tr>\n",
       "      <th>2</th>\n",
       "      <td>San Churro Cafe</td>\n",
       "      <td>Yes</td>\n",
       "      <td>No</td>\n",
       "      <td>3.8</td>\n",
       "      <td>918</td>\n",
       "      <td>800</td>\n",
       "      <td>Buffet</td>\n",
       "    </tr>\n",
       "    <tr>\n",
       "      <th>3</th>\n",
       "      <td>Addhuri Udupi Bhojana</td>\n",
       "      <td>No</td>\n",
       "      <td>No</td>\n",
       "      <td>3.7</td>\n",
       "      <td>88</td>\n",
       "      <td>300</td>\n",
       "      <td>Buffet</td>\n",
       "    </tr>\n",
       "    <tr>\n",
       "      <th>4</th>\n",
       "      <td>Grand Village</td>\n",
       "      <td>No</td>\n",
       "      <td>No</td>\n",
       "      <td>3.8</td>\n",
       "      <td>166</td>\n",
       "      <td>600</td>\n",
       "      <td>Buffet</td>\n",
       "    </tr>\n",
       "  </tbody>\n",
       "</table>\n",
       "</div>"
      ],
      "text/plain": [
       "                    name online_order book_table  rate  votes  \\\n",
       "0                  Jalsa          Yes        Yes   4.1    775   \n",
       "1         Spice Elephant          Yes         No   4.1    787   \n",
       "2        San Churro Cafe          Yes         No   3.8    918   \n",
       "3  Addhuri Udupi Bhojana           No         No   3.7     88   \n",
       "4          Grand Village           No         No   3.8    166   \n",
       "\n",
       "   approx_cost(for two people) listed_in(type)  \n",
       "0                          800          Buffet  \n",
       "1                          800          Buffet  \n",
       "2                          800          Buffet  \n",
       "3                          300          Buffet  \n",
       "4                          600          Buffet  "
      ]
     },
     "execution_count": 12,
     "metadata": {},
     "output_type": "execute_result"
    }
   ],
   "source": [
    "df.head()"
   ]
  },
  {
   "cell_type": "code",
   "execution_count": 13,
   "id": "41f6e863",
   "metadata": {},
   "outputs": [
    {
     "name": "stdout",
     "output_type": "stream",
     "text": [
      "<class 'pandas.core.frame.DataFrame'>\n",
      "RangeIndex: 148 entries, 0 to 147\n",
      "Data columns (total 7 columns):\n",
      " #   Column                       Non-Null Count  Dtype  \n",
      "---  ------                       --------------  -----  \n",
      " 0   name                         148 non-null    object \n",
      " 1   online_order                 148 non-null    object \n",
      " 2   book_table                   148 non-null    object \n",
      " 3   rate                         148 non-null    float64\n",
      " 4   votes                        148 non-null    int64  \n",
      " 5   approx_cost(for two people)  148 non-null    int64  \n",
      " 6   listed_in(type)              148 non-null    object \n",
      "dtypes: float64(1), int64(2), object(4)\n",
      "memory usage: 8.2+ KB\n"
     ]
    }
   ],
   "source": [
    "df.info()"
   ]
  },
  {
   "cell_type": "code",
   "execution_count": 14,
   "id": "3bc6ff21",
   "metadata": {},
   "outputs": [],
   "source": [
    "# the listed_in (type) column"
   ]
  },
  {
   "cell_type": "code",
   "execution_count": 15,
   "id": "bbcbf1ef",
   "metadata": {},
   "outputs": [
    {
     "data": {
      "text/plain": [
       "Text(0.5, 0, 'Type of Restaurant')"
      ]
     },
     "execution_count": 15,
     "metadata": {},
     "output_type": "execute_result"
    },
    {
     "data": {
      "image/png": "[encoded data removed]",
      "text/plain": [
       "<Figure size 432x288 with 1 Axes>"
      ]
     },
     "metadata": {
      "needs_background": "light"
     },
     "output_type": "display_data"
    }
   ],
   "source": [
    "sns.countplot(x=df['listed_in(type)'])\n",
    "plt.xlabel('Type of Restaurant')"
   ]
  },
  {
   "cell_type": "markdown",
   "id": "ec0df0f8",
   "metadata": {},
   "source": [
    "The majority of the restaurants fall into the dining category."
   ]
  },
  {
   "cell_type": "code",
   "execution_count": 21,
   "id": "5e4ee129",
   "metadata": {},
   "outputs": [
    {
     "data": {
      "text/plain": [
       "Text(0, 0.5, 'Votes')"
      ]
     },
     "execution_count": 21,
     "metadata": {},
     "output_type": "execute_result"
    },
    {
     "data": {
      "image/png": "[encoded data removed]",
      "text/plain": [
       "<Figure size 432x288 with 1 Axes>"
      ]
     },
     "metadata": {
      "needs_background": "light"
     },
     "output_type": "display_data"
    }
   ],
   "source": [
    "group_data = df.groupby('listed_in(type)')['votes'].sum()\n",
    "res = pd.DataFrame({'votes': group_data})\n",
    "plt.plot(res, c=\"purple\", marker='o')\n",
    "plt.xlabel(\"Types of Restaurant\", c=\"red\", size=20)\n",
    "plt.ylabel(\"Votes\", c=\"red\", size=20)"
   ]
  },
  {
   "cell_type": "markdown",
   "id": "07858334",
   "metadata": {},
   "source": [
    "Dining restaurants are preferred by a larger number of individuals.\n",
    "\n",
    "\n",
    "\n",
    "\n"
   ]
  },
  {
   "cell_type": "markdown",
   "id": "d1926bfd",
   "metadata": {},
   "source": [
    "we will determine the restaurant’s name that received the maximum votes based on a given dataframe."
   ]
  },
  {
   "cell_type": "code",
   "execution_count": 22,
   "id": "fd734674",
   "metadata": {},
   "outputs": [
    {
     "data": {
      "text/plain": [
       "38    Empire Restaurant\n",
       "Name: name, dtype: object"
      ]
     },
     "execution_count": 22,
     "metadata": {},
     "output_type": "execute_result"
    }
   ],
   "source": [
    "max_votes = df['votes'].max()\n",
    "maxvotes_res = df.loc[df['votes']==max_votes, 'name']\n",
    "maxvotes_res"
   ]
  },
  {
   "cell_type": "code",
   "execution_count": 24,
   "id": "26c0c666",
   "metadata": {},
   "outputs": [
    {
     "data": {
      "text/plain": [
       "<AxesSubplot:xlabel='online_order', ylabel='count'>"
      ]
     },
     "execution_count": 24,
     "metadata": {},
     "output_type": "execute_result"
    },
    {
     "data": {
      "image/png": "[encoded data removed]",
      "text/plain": [
       "<Figure size 432x288 with 1 Axes>"
      ]
     },
     "metadata": {
      "needs_background": "light"
     },
     "output_type": "display_data"
    }
   ],
   "source": [
    "sns.countplot(x=df['online_order'])"
   ]
  },
  {
   "cell_type": "markdown",
   "id": "ec9a0b0d",
   "metadata": {},
   "source": [
    "This suggests that a majority of the restaurants do not accept online orders."
   ]
  },
  {
   "cell_type": "code",
   "execution_count": 25,
   "id": "e9ac4687",
   "metadata": {},
   "outputs": [],
   "source": [
    "# rate column"
   ]
  },
  {
   "cell_type": "code",
   "execution_count": 27,
   "id": "b67a1725",
   "metadata": {},
   "outputs": [
    {
     "data": {
      "image/png": "[encoded data removed]",
      "text/plain": [
       "<Figure size 432x288 with 1 Axes>"
      ]
     },
     "metadata": {
      "needs_background": "light"
     },
     "output_type": "display_data"
    }
   ],
   "source": [
    "plt.hist(df['rate'],bins=5)\n",
    "plt.title(\"Ratings Distribution\")\n",
    "plt.show()"
   ]
  },
  {
   "cell_type": "markdown",
   "id": "aee1d933",
   "metadata": {},
   "source": [
    "The majority of restaurants received ratings ranging from 3.5 to 4."
   ]
  },
  {
   "cell_type": "code",
   "execution_count": 28,
   "id": "38d2b129",
   "metadata": {},
   "outputs": [],
   "source": [
    "# the approx_cost(for two people) column."
   ]
  },
  {
   "cell_type": "code",
   "execution_count": 29,
   "id": "97f31cb4",
   "metadata": {},
   "outputs": [
    {
     "data": {
      "text/plain": [
       "<AxesSubplot:xlabel='approx_cost(for two people)', ylabel='count'>"
      ]
     },
     "execution_count": 29,
     "metadata": {},
     "output_type": "execute_result"
    },
    {
     "data": {
      "image/png": "[encoded data removed]",
      "text/plain": [
       "<Figure size 432x288 with 1 Axes>"
      ]
     },
     "metadata": {
      "needs_background": "light"
     },
     "output_type": "display_data"
    }
   ],
   "source": [
    "couple_data=df['approx_cost(for two people)']\n",
    "sns.countplot(x=couple_data)"
   ]
  },
  {
   "cell_type": "markdown",
   "id": "8a5c1df6",
   "metadata": {},
   "source": [
    "The majority of couples prefer restaurants with an approximate cost of 300 rupees."
   ]
  },
  {
   "cell_type": "code",
   "execution_count": 30,
   "id": "94938197",
   "metadata": {},
   "outputs": [],
   "source": [
    "#examine whether online orders receive higher ratings than offline orders"
   ]
  },
  {
   "cell_type": "code",
   "execution_count": 31,
   "id": "1456c83c",
   "metadata": {},
   "outputs": [
    {
     "data": {
      "text/plain": [
       "<AxesSubplot:xlabel='online_order', ylabel='rate'>"
      ]
     },
     "execution_count": 31,
     "metadata": {},
     "output_type": "execute_result"
    },
    {
     "data": {
      "image/png": "[encoded data removed]",
      "text/plain": [
       "<Figure size 432x432 with 1 Axes>"
      ]
     },
     "metadata": {
      "needs_background": "light"
     },
     "output_type": "display_data"
    }
   ],
   "source": [
    "plt.figure(figsize = (6,6))\n",
    "sns.boxplot(x=\"online_order\", y=\"rate\", data=df)"
   ]
  },
  {
   "cell_type": "markdown",
   "id": "0061a502",
   "metadata": {},
   "source": [
    "Offline orders received lower ratings in comparison to online orders, which obtained excellent ratings."
   ]
  },
  {
   "cell_type": "code",
   "execution_count": 33,
   "id": "13d4be33",
   "metadata": {},
   "outputs": [
    {
     "data": {
      "image/png": "[encoded data removed]",
      "text/plain": [
       "<Figure size 432x288 with 2 Axes>"
      ]
     },
     "metadata": {
      "needs_background": "light"
     },
     "output_type": "display_data"
    }
   ],
   "source": [
    "pivot_table = df.pivot_table(index='listed_in(type)', columns='online_order', aggfunc='size', fill_value=0)\n",
    "sns.heatmap(pivot_table, annot=True, cmap=\"YlGnBu\", fmt='d')\n",
    "plt.title(\"Heatmap\")\n",
    "plt.xlabel(\"Online order\")\n",
    "plt.ylabel(\"Listed in(type)\")\n",
    "plt.show()"
   ]
  },
  {
   "cell_type": "markdown",
   "id": "0635915a",
   "metadata": {},
   "source": [
    "Dining restaurants primarily accept offline orders, whereas cafes primarily receive online orders. This suggests that clients prefer to place orders in person at restaurants, but prefer online ordering at cafes."
   ]
  },
  {
   "cell_type": "code",
   "execution_count": null,
   "id": "6f4b6f34",
   "metadata": {},
   "outputs": [],
   "source": []
  }
 ],
 "metadata": {
  "kernelspec": {
   "display_name": "Python 3",
   "language": "python",
   "name": "python3"
  },
  "language_info": {
   "codemirror_mode": {
    "name": "ipython",
    "version": 3
   },
   "file_extension": ".py",
   "mimetype": "text/x-python",
   "name": "python",
   "nbconvert_exporter": "python",
   "pygments_lexer": "ipython3",
   "version": "3.8.8"
  }
 },
 "nbformat": 4,
 "nbformat_minor": 5
}
